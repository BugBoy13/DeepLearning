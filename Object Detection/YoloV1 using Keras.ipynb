{
 "cells": [
  {
   "cell_type": "code",
   "execution_count": 4,
   "metadata": {},
   "outputs": [],
   "source": [
    "import keras\n",
    "from keras.models import Sequential\n",
    "from keras.layers.convolutional import Convolution2D, MaxPooling2D\n",
    "from keras.layers import LeakyReLU\n",
    "from keras.layers.core import Flatten, Dense, Activation, Reshape"
   ]
  },
  {
   "cell_type": "code",
   "execution_count": 5,
   "metadata": {},
   "outputs": [],
   "source": [
    "import numpy as np\n",
    "import cv2"
   ]
  },
  {
   "cell_type": "code",
   "execution_count": 6,
   "metadata": {},
   "outputs": [],
   "source": [
    "# \"th\" format means that the convolutional kernels will have the shape (depth, input_depth, rows, cols)\n",
    "# \"tf\" format means that the convolutional kernels will have the shape (rows, cols, input_depth, depth)"
   ]
  },
  {
   "cell_type": "code",
   "execution_count": 11,
   "metadata": {},
   "outputs": [],
   "source": [
    "# Cropping image in 448 X 448\n",
    "# Function called in preprocess\n",
    "def crop_and_resize(image):\n",
    "    cropped = image[300:650,500:,:]\n",
    "    return cv2.resize(cropped, (448, 448))"
   ]
  },
  {
   "cell_type": "code",
   "execution_count": 12,
   "metadata": {},
   "outputs": [],
   "source": [
    "# Normalizing image between -1 and 1\n",
    "# Function called in preprocess\n",
    "def normalize(image):\n",
    "    normalized = 2.0*image/255.0 - 1\n",
    "    return normalized"
   ]
  },
  {
   "cell_type": "code",
   "execution_count": 13,
   "metadata": {},
   "outputs": [],
   "source": [
    "def preprocess(image):\n",
    "    cropped = crop_and_resize(image)\n",
    "    normalized = normalize(cropped)\n",
    "    \n",
    "    transposed = np.transpose(normalized, (2, 0, 1))    # axes\n",
    "    return transposed"
   ]
  },
  {
   "cell_type": "code",
   "execution_count": 18,
   "metadata": {},
   "outputs": [],
   "source": [
    "'''\n",
    "When you use a two-dimentional image with m rows and n cols, and a a*b size kernel to convolute the input image,\n",
    "this is what happens:\n",
    "\n",
    "If border_mode is 'full', returns a (m+a-1)x(n+b-1) image;\n",
    "if border_mode is 'same', returns the same dimention as the input image;\n",
    "if border_mode is 'valid',returns a (m-a+1)x(n-b+1) image\n",
    "'''\n",
    "def create_model():\n",
    "    \n",
    "    model = Sequential()\n",
    "    \n",
    "    # Subsample in Keras is the same as strides in tensorflow  \n",
    "    # input_shape only include when using layer first time\n",
    "    model.add(Conv2D(64, 7, 7, input_shape(3, 448, 448), border_mode = 'same', strides = (1, 1)))\n",
    "    model.add(LeakyReLU(alpha=0.1))\n",
    "    model.add(MaxPooling2D(pool_size = (2, 2), strides=None))    # strides = None default to pool_size\n",
    "    \n",
    "    model.add(Conv2D(192, 3, 3, border_mode = 'same'))\n",
    "    model.add(LeakyReLU(alpha=0.1))\n",
    "    model.add(MaxPooling2D(pool_size = (2, 2), strides=None))    # strides = None default to pool_size\n",
    "         \n",
    "    model.add(Conv2D(128, 1, 1, border_mode = 'same'))\n",
    "    model.add(LeakyReLU(alpha=0.1))\n",
    "    model.add(Conv2D(256, 3, 3, border_mode = 'same'))\n",
    "    model.add(LeakyReLU(alpha=0.1))\n",
    "    model.add(Conv2D(256, 1, 1, border_mode = 'same'))\n",
    "    model.add(LeakyReLU(alpha=0.1))\n",
    "    model.add(Conv2D(512, 3, 3, border_mode = 'same'))\n",
    "    model.add(LeakyReLU(alpha=0.1))\n",
    "    model.add(MaxPooling2D(pool_size = (2, 2), strides=None))    # strides = None default to pool_size\n",
    "\n",
    "    model.add(Conv2D(256, 1, 1, border_mode = 'same'))\n",
    "    model.add(LeakyReLU(alpha=0.1))\n",
    "    model.add(Conv2D(512, 3, 3, border_mode = 'same'))\n",
    "    model.add(LeakyReLU(alpha=0.1))\n",
    "    model.add(Conv2D(256, 1, 1, border_mode = 'same'))\n",
    "    model.add(LeakyReLU(alpha=0.1))\n",
    "    model.add(Conv2D(512, 3, 3, border_mode = 'same'))\n",
    "    model.add(LeakyReLU(alpha=0.1))\n",
    "    model.add(Conv2D(512, 1, 1, border_mode = 'same'))\n",
    "    model.add(LeakyReLU(alpha=0.1))\n",
    "    model.add(Conv2D(1024, 3, 3, border_mode = 'same'))\n",
    "    model.add(LeakyReLU(alpha=0.1))\n",
    "    model.add(MaxPooling2D(pool_size = (2, 2), strides=None))    # strides = None default to pool_size\n",
    "\n",
    "    model.add(Conv2D(512, 1, 1, border_mode = 'same'))\n",
    "    model.add(LeakyReLU(alpha=0.1))\n",
    "    model.add(Conv2D(1024, 3, 3, border_mode = 'same'))\n",
    "    model.add(LeakyReLU(alpha=0.1))\n",
    "    model.add(Conv2D(512, 1, 1, border_mode = 'same'))\n",
    "    model.add(LeakyReLU(alpha=0.1))\n",
    "    model.add(Conv2D(1024, 3, 3, border_mode = 'same'))\n",
    "    model.add(LeakyReLU(alpha=0.1))\n",
    "    model.add(Conv2D(1024, 3, 3, border_mode = 'same'))\n",
    "    model.add(LeakyReLU(alpha=0.1))\n",
    "    model.add(Conv2D(1024, 3, 3, border_mode = 'same'))\n",
    "    model.add(LeakyReLU(alpha=0.1))\n",
    "    model.add(MaxPooling2D(pool_size = (2, 2), strides=None))    # strides = None default to pool_size\n",
    "    \n",
    "    model.add(Conv2D(1024, 3, 3, border_mode = 'same'))\n",
    "    model.add(LeakyReLU(alpha=0.1))\n",
    "    model.add(Conv2D(1024, 3, 3, border_mode = 'same'))\n",
    "    model.add(LeakyReLU(alpha=0.1))\n",
    "    \n",
    "    model.add(Flatten())\n",
    "    \n",
    "    model.add(Dense(4096))\n",
    "    model.add(Dense(30))\n",
    "    model.add(LeakyReLU(alpha=0.1))"
   ]
  },
  {
   "cell_type": "code",
   "execution_count": null,
   "metadata": {},
   "outputs": [],
   "source": []
  }
 ],
 "metadata": {
  "kernelspec": {
   "display_name": "Python 3",
   "language": "python",
   "name": "python3"
  },
  "language_info": {
   "codemirror_mode": {
    "name": "ipython",
    "version": 3
   },
   "file_extension": ".py",
   "mimetype": "text/x-python",
   "name": "python",
   "nbconvert_exporter": "python",
   "pygments_lexer": "ipython3",
   "version": "3.6.7"
  }
 },
 "nbformat": 4,
 "nbformat_minor": 2
}
